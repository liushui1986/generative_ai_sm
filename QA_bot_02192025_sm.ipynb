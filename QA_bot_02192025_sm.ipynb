{
 "cells": [
  {
   "cell_type": "code",
   "execution_count": 1,
   "id": "60dff397",
   "metadata": {},
   "outputs": [
    {
     "name": "stdout",
     "output_type": "stream",
     "text": [
      "API key looks good so far\n",
      "Please write down your question here:\n",
      "Where are you located?\n",
      "Please choose the model you want to use:\n",
      "\n",
      "1: GPT\n",
      "2: Llama\n",
      "2\n",
      "Getting response from Llama 3.2...\n"
     ]
    },
    {
     "data": {
      "text/markdown": [
       "**Llama 3.2 Response:**\n",
       "\n",
       "I don't have a physical location. I'm a cloud-based AI designed to provide information and answer questions to the best of my knowledge. I can be accessed from anywhere with an internet connection."
      ],
      "text/plain": [
       "<IPython.core.display.Markdown object>"
      ]
     },
     "metadata": {},
     "output_type": "display_data"
    }
   ],
   "source": [
    "# imports\n",
    "import os\n",
    "import requests\n",
    "import json\n",
    "from typing import List\n",
    "from dotenv import load_dotenv\n",
    "from bs4 import BeautifulSoup\n",
    "from IPython.display import Markdown, display\n",
    "from openai import OpenAI\n",
    "\n",
    "# constants\n",
    "load_dotenv(override=True)\n",
    "api_key = os.getenv('OPENAI_API_KEY')\n",
    "\n",
    "if api_key and api_key.startswith('sk-proj-') and len(api_key)>10:\n",
    "    print(\"API key looks good so far\")\n",
    "else:\n",
    "    print(\"There might be a problem with your API key? Please visit the troubleshooting notebook!\")\n",
    "\n",
    "OLLAMA_API = \"http://localhost:11434/api/chat\"\n",
    "HEADERS = {\"Content-Type\": \"application/json\"}\n",
    "\n",
    "MODEL_GPT = 'gpt-4o-mini'\n",
    "MODEL_LLAMA = 'llama3.2'\n",
    "\n",
    "# set up environment\n",
    "def get_gpt_answer(question: str):\n",
    "    \"\"\"\n",
    "    Get an answer from OpenAI's GPT model.\n",
    "    \"\"\"\n",
    "    client = OpenAI(api_key=api_key)\n",
    "    response = client.chat.completions.create(\n",
    "        model = MODEL_GPT,\n",
    "        messages=[{'role': 'system', 'content': 'You are a helpful AI assitant.'},\n",
    "                {'role': 'user', 'content': question}],\n",
    "        stream=False\n",
    "    )\n",
    "    return response.choices[0].message.content\n",
    "\n",
    "def get_llama_answer(question:str):\n",
    "    \"\"\"\n",
    "    Get an answer from Ollama's Llama model.\n",
    "    \"\"\"\n",
    "    payload = {\n",
    "        'model': MODEL_LLAMA,\n",
    "        'messages': [{'role': 'user', 'content': question}],\n",
    "        'stream': False\n",
    "    }\n",
    "    response = requests.post(OLLAMA_API, headers=HEADERS, json=payload)\n",
    "\n",
    "    if response.status_code == 200:\n",
    "        response_data = response.json()\n",
    "        \n",
    "        # Extract the correct content\n",
    "        if 'message' in response_data and 'content' in response_data['message']:\n",
    "            return response_data['message']['content']\n",
    "        else:\n",
    "            return 'Error: Unexpected response format from Llama.'\n",
    "\n",
    "    return f'Error: {response.status_code} - {response.text}'\n",
    "\n",
    "def choose_model(number: int, question: str):\n",
    "    if number == 1:\n",
    "        print('Getting response from GPT-4o-mini...')\n",
    "        gpt_response = get_gpt_answer(question)\n",
    "        display(Markdown(f'**GPT-4o-mini Response:**\\n\\n{gpt_response}'))\n",
    "    elif number == 2:\n",
    "        print('Getting response from Llama 3.2...')\n",
    "        llama_response = get_llama_answer(question)\n",
    "        display(Markdown(f'**Llama 3.2 Response:**\\n\\n{llama_response}'))\n",
    "    else:\n",
    "        print('Please choose a valid model (1 or 2).')\n",
    "\n",
    "# Get user input\n",
    "question = input('Please write down your question here:\\n')\n",
    "\n",
    "while True:\n",
    "    number = input('Please choose the model you want to use:\\n\\n1: GPT\\n2: Llama\\n')\n",
    "    if number.lower() == 'exit':\n",
    "        print('Exiting program. Goodbye!')\n",
    "        break\n",
    "        \n",
    "    if number.isdigit():\n",
    "        number = int(number)\n",
    "        if number in [1, 2]:\n",
    "            choose_model(number, question)\n",
    "            break\n",
    "        else:\n",
    "            print('Invalid choice. Please enter 1 for GPT or 2 for Llama.')\n",
    "    else:\n",
    "        print('Invalid input. Please enter a number (1 or 2).')"
   ]
  },
  {
   "cell_type": "code",
   "execution_count": null,
   "id": "da9a7b2a",
   "metadata": {},
   "outputs": [],
   "source": []
  }
 ],
 "metadata": {
  "kernelspec": {
   "display_name": "Python 3 (ipykernel)",
   "language": "python",
   "name": "python3"
  },
  "language_info": {
   "codemirror_mode": {
    "name": "ipython",
    "version": 3
   },
   "file_extension": ".py",
   "mimetype": "text/x-python",
   "name": "python",
   "nbconvert_exporter": "python",
   "pygments_lexer": "ipython3",
   "version": "3.10.9"
  }
 },
 "nbformat": 4,
 "nbformat_minor": 5
}
